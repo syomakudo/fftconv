{
 "cells": [
  {
   "cell_type": "code",
   "execution_count": 2,
   "metadata": {},
   "outputs": [],
   "source": [
    "from functools import partial\n",
    "from typing import Iterable, Tuple, Union\n",
    "\n",
    "import torch\n",
    "import torch.nn.functional as F\n",
    "from torch import Tensor, nn\n",
    "from torch.fft import irfftn, rfftn\n"
   ]
  },
  {
   "cell_type": "code",
   "execution_count": 29,
   "metadata": {},
   "outputs": [
    {
     "data": {
      "text/plain": [
       "torch.Size([3, 2, 1])"
      ]
     },
     "execution_count": 29,
     "metadata": {},
     "output_type": "execute_result"
    }
   ],
   "source": [
    "t = torch.randn(3,2,1)\n",
    "t.shape"
   ]
  },
  {
   "cell_type": "code",
   "execution_count": 27,
   "metadata": {},
   "outputs": [
    {
     "data": {
      "text/plain": [
       "torch.Size([2, 3, 1])"
      ]
     },
     "execution_count": 27,
     "metadata": {},
     "output_type": "execute_result"
    }
   ],
   "source": [
    "torch.movedim(t, 1, 0).shape\n"
   ]
  },
  {
   "cell_type": "code",
   "execution_count": 19,
   "metadata": {},
   "outputs": [
    {
     "data": {
      "text/plain": [
       "tensor([[[ 0.8270],\n",
       "         [-1.7391],\n",
       "         [-0.1026]],\n",
       "\n",
       "        [[-0.1783],\n",
       "         [-1.2065],\n",
       "         [-0.8503]]])"
      ]
     },
     "execution_count": 19,
     "metadata": {},
     "output_type": "execute_result"
    }
   ],
   "source": [
    "torch.movedim(t, 1, 0)"
   ]
  },
  {
   "cell_type": "code",
   "execution_count": 30,
   "metadata": {},
   "outputs": [
    {
     "data": {
      "text/plain": [
       "tensor([[[-0.8215, -0.0706,  1.0115]],\n",
       "\n",
       "        [[ 0.4544, -0.5332, -0.0921]]])"
      ]
     },
     "execution_count": 30,
     "metadata": {},
     "output_type": "execute_result"
    }
   ],
   "source": [
    "\n",
    "torch.movedim(t, (1, 2), (0, 1)).shape\n",
    "torch.movedim(t, (1, 2), (0, 1))"
   ]
  },
  {
   "cell_type": "code",
   "execution_count": 54,
   "metadata": {},
   "outputs": [
    {
     "name": "stdout",
     "output_type": "stream",
     "text": [
      "torch.Size([4])\n"
     ]
    },
    {
     "data": {
      "text/plain": [
       "tensor([[1, 2, 3, 4]])"
      ]
     },
     "execution_count": 54,
     "metadata": {},
     "output_type": "execute_result"
    }
   ],
   "source": [
    "x = torch.tensor([1, 2, 3, 4])\n",
    "print(x.shape)\n",
    "torch.unsqueeze(x, 0)"
   ]
  },
  {
   "cell_type": "code",
   "execution_count": 58,
   "metadata": {},
   "outputs": [
    {
     "data": {
      "text/plain": [
       "tensor([[1, 2, 3, 4]])"
      ]
     },
     "execution_count": 58,
     "metadata": {},
     "output_type": "execute_result"
    }
   ],
   "source": [
    "\n",
    "x.unsqueeze(-2)\n"
   ]
  },
  {
   "cell_type": "code",
   "execution_count": 67,
   "metadata": {},
   "outputs": [
    {
     "name": "stdout",
     "output_type": "stream",
     "text": [
      "tensor([[4, 5, 5]])\n"
     ]
    }
   ],
   "source": [
    "a = torch.randint(1,6, (1,3))\n",
    "print(a)"
   ]
  },
  {
   "cell_type": "code",
   "execution_count": 64,
   "metadata": {},
   "outputs": [
    {
     "name": "stdout",
     "output_type": "stream",
     "text": [
      "tensor([[2, 3, 3]])\n"
     ]
    }
   ],
   "source": [
    "b = torch.randint(1,6, (3,1))\n",
    "print(a)"
   ]
  },
  {
   "cell_type": "code",
   "execution_count": 69,
   "metadata": {},
   "outputs": [
    {
     "name": "stdout",
     "output_type": "stream",
     "text": [
      "tensor([[4, 5, 5]])\n",
      "tensor([[5],\n",
      "        [1],\n",
      "        [5]])\n",
      "tensor([[50]])\n"
     ]
    }
   ],
   "source": [
    "print(a)\n",
    "print(b)\n",
    "print(a @ b)"
   ]
  },
  {
   "cell_type": "code",
   "execution_count": 4,
   "metadata": {},
   "outputs": [
    {
     "name": "stdout",
     "output_type": "stream",
     "text": [
      "tensor([[1., 0.],\n",
      "        [0., 1.]])\n",
      "tensor([[1., 1.],\n",
      "        [1., 1.]])\n",
      "tensor([[1., 1., 0., 0.],\n",
      "        [1., 1., 0., 0.],\n",
      "        [0., 0., 1., 1.],\n",
      "        [0., 0., 1., 1.]])\n"
     ]
    }
   ],
   "source": [
    "mat1 = torch.eye(2)\n",
    "print(mat1)\n",
    "mat2 = torch.ones(2, 2)\n",
    "print(mat2)\n",
    "print(torch.kron(mat1, mat2))"
   ]
  },
  {
   "cell_type": "code",
   "execution_count": 9,
   "metadata": {},
   "outputs": [
    {
     "name": "stdout",
     "output_type": "stream",
     "text": [
      "tensor([[[[3, 4],\n",
      "          [3, 4],\n",
      "          [2, 4],\n",
      "          [2, 4]],\n",
      "\n",
      "         [[3, 4],\n",
      "          [5, 2],\n",
      "          [3, 4],\n",
      "          [2, 4]],\n",
      "\n",
      "         [[5, 2],\n",
      "          [3, 4],\n",
      "          [4, 5],\n",
      "          [2, 2]]],\n",
      "\n",
      "\n",
      "        [[[4, 2],\n",
      "          [4, 3],\n",
      "          [5, 3],\n",
      "          [3, 5]],\n",
      "\n",
      "         [[4, 4],\n",
      "          [5, 3],\n",
      "          [2, 5],\n",
      "          [3, 2]],\n",
      "\n",
      "         [[2, 4],\n",
      "          [4, 5],\n",
      "          [4, 2],\n",
      "          [3, 3]]],\n",
      "\n",
      "\n",
      "        [[[3, 2],\n",
      "          [3, 2],\n",
      "          [4, 3],\n",
      "          [2, 4]],\n",
      "\n",
      "         [[3, 5],\n",
      "          [2, 5],\n",
      "          [5, 5],\n",
      "          [5, 5]],\n",
      "\n",
      "         [[4, 5],\n",
      "          [3, 4],\n",
      "          [5, 5],\n",
      "          [2, 3]]]])\n"
     ]
    }
   ],
   "source": [
    "t4d = torch.randint(2,6, (3,3,4,2))\n",
    "p1d = (1, 1) # pad last dim by 1 on each side\n",
    "print(t4d)"
   ]
  },
  {
   "cell_type": "code",
   "execution_count": 10,
   "metadata": {},
   "outputs": [
    {
     "name": "stdout",
     "output_type": "stream",
     "text": [
      "torch.Size([3, 3, 4, 4])\n",
      "tensor([[[[0, 3, 4, 0],\n",
      "          [0, 3, 4, 0],\n",
      "          [0, 2, 4, 0],\n",
      "          [0, 2, 4, 0]],\n",
      "\n",
      "         [[0, 3, 4, 0],\n",
      "          [0, 5, 2, 0],\n",
      "          [0, 3, 4, 0],\n",
      "          [0, 2, 4, 0]],\n",
      "\n",
      "         [[0, 5, 2, 0],\n",
      "          [0, 3, 4, 0],\n",
      "          [0, 4, 5, 0],\n",
      "          [0, 2, 2, 0]]],\n",
      "\n",
      "\n",
      "        [[[0, 4, 2, 0],\n",
      "          [0, 4, 3, 0],\n",
      "          [0, 5, 3, 0],\n",
      "          [0, 3, 5, 0]],\n",
      "\n",
      "         [[0, 4, 4, 0],\n",
      "          [0, 5, 3, 0],\n",
      "          [0, 2, 5, 0],\n",
      "          [0, 3, 2, 0]],\n",
      "\n",
      "         [[0, 2, 4, 0],\n",
      "          [0, 4, 5, 0],\n",
      "          [0, 4, 2, 0],\n",
      "          [0, 3, 3, 0]]],\n",
      "\n",
      "\n",
      "        [[[0, 3, 2, 0],\n",
      "          [0, 3, 2, 0],\n",
      "          [0, 4, 3, 0],\n",
      "          [0, 2, 4, 0]],\n",
      "\n",
      "         [[0, 3, 5, 0],\n",
      "          [0, 2, 5, 0],\n",
      "          [0, 5, 5, 0],\n",
      "          [0, 5, 5, 0]],\n",
      "\n",
      "         [[0, 4, 5, 0],\n",
      "          [0, 3, 4, 0],\n",
      "          [0, 5, 5, 0],\n",
      "          [0, 2, 3, 0]]]])\n"
     ]
    }
   ],
   "source": [
    "\n",
    "out = F.pad(t4d, p1d, \"constant\", 0)  # effectively zero padding\n",
    "print(out.size())\n",
    "print(out)\n"
   ]
  },
  {
   "cell_type": "code",
   "execution_count": 11,
   "metadata": {},
   "outputs": [],
   "source": []
  },
  {
   "cell_type": "code",
   "execution_count": 29,
   "metadata": {},
   "outputs": [
    {
     "name": "stdout",
     "output_type": "stream",
     "text": [
      "torch.Size([3, 3, 4, 2])\n",
      "torch.Size([3, 5, 6, 5])\n",
      "tensor([[[[0, 0, 0, 0, 0],\n",
      "          [0, 0, 0, 0, 0],\n",
      "          [0, 0, 0, 0, 0],\n",
      "          [0, 0, 0, 0, 0],\n",
      "          [0, 0, 0, 0, 0],\n",
      "          [0, 0, 0, 0, 0]],\n",
      "\n",
      "         [[0, 0, 0, 0, 0],\n",
      "          [0, 0, 3, 4, 0],\n",
      "          [0, 0, 3, 4, 0],\n",
      "          [0, 0, 2, 4, 0],\n",
      "          [0, 0, 2, 4, 0],\n",
      "          [0, 0, 0, 0, 0]],\n",
      "\n",
      "         [[0, 0, 0, 0, 0],\n",
      "          [0, 0, 3, 4, 0],\n",
      "          [0, 0, 5, 2, 0],\n",
      "          [0, 0, 3, 4, 0],\n",
      "          [0, 0, 2, 4, 0],\n",
      "          [0, 0, 0, 0, 0]],\n",
      "\n",
      "         [[0, 0, 0, 0, 0],\n",
      "          [0, 0, 5, 2, 0],\n",
      "          [0, 0, 3, 4, 0],\n",
      "          [0, 0, 4, 5, 0],\n",
      "          [0, 0, 2, 2, 0],\n",
      "          [0, 0, 0, 0, 0]],\n",
      "\n",
      "         [[0, 0, 0, 0, 0],\n",
      "          [0, 0, 0, 0, 0],\n",
      "          [0, 0, 0, 0, 0],\n",
      "          [0, 0, 0, 0, 0],\n",
      "          [0, 0, 0, 0, 0],\n",
      "          [0, 0, 0, 0, 0]]],\n",
      "\n",
      "\n",
      "        [[[0, 0, 0, 0, 0],\n",
      "          [0, 0, 0, 0, 0],\n",
      "          [0, 0, 0, 0, 0],\n",
      "          [0, 0, 0, 0, 0],\n",
      "          [0, 0, 0, 0, 0],\n",
      "          [0, 0, 0, 0, 0]],\n",
      "\n",
      "         [[0, 0, 0, 0, 0],\n",
      "          [0, 0, 4, 2, 0],\n",
      "          [0, 0, 4, 3, 0],\n",
      "          [0, 0, 5, 3, 0],\n",
      "          [0, 0, 3, 5, 0],\n",
      "          [0, 0, 0, 0, 0]],\n",
      "\n",
      "         [[0, 0, 0, 0, 0],\n",
      "          [0, 0, 4, 4, 0],\n",
      "          [0, 0, 5, 3, 0],\n",
      "          [0, 0, 2, 5, 0],\n",
      "          [0, 0, 3, 2, 0],\n",
      "          [0, 0, 0, 0, 0]],\n",
      "\n",
      "         [[0, 0, 0, 0, 0],\n",
      "          [0, 0, 2, 4, 0],\n",
      "          [0, 0, 4, 5, 0],\n",
      "          [0, 0, 4, 2, 0],\n",
      "          [0, 0, 3, 3, 0],\n",
      "          [0, 0, 0, 0, 0]],\n",
      "\n",
      "         [[0, 0, 0, 0, 0],\n",
      "          [0, 0, 0, 0, 0],\n",
      "          [0, 0, 0, 0, 0],\n",
      "          [0, 0, 0, 0, 0],\n",
      "          [0, 0, 0, 0, 0],\n",
      "          [0, 0, 0, 0, 0]]],\n",
      "\n",
      "\n",
      "        [[[0, 0, 0, 0, 0],\n",
      "          [0, 0, 0, 0, 0],\n",
      "          [0, 0, 0, 0, 0],\n",
      "          [0, 0, 0, 0, 0],\n",
      "          [0, 0, 0, 0, 0],\n",
      "          [0, 0, 0, 0, 0]],\n",
      "\n",
      "         [[0, 0, 0, 0, 0],\n",
      "          [0, 0, 3, 2, 0],\n",
      "          [0, 0, 3, 2, 0],\n",
      "          [0, 0, 4, 3, 0],\n",
      "          [0, 0, 2, 4, 0],\n",
      "          [0, 0, 0, 0, 0]],\n",
      "\n",
      "         [[0, 0, 0, 0, 0],\n",
      "          [0, 0, 3, 5, 0],\n",
      "          [0, 0, 2, 5, 0],\n",
      "          [0, 0, 5, 5, 0],\n",
      "          [0, 0, 5, 5, 0],\n",
      "          [0, 0, 0, 0, 0]],\n",
      "\n",
      "         [[0, 0, 0, 0, 0],\n",
      "          [0, 0, 4, 5, 0],\n",
      "          [0, 0, 3, 4, 0],\n",
      "          [0, 0, 5, 5, 0],\n",
      "          [0, 0, 2, 3, 0],\n",
      "          [0, 0, 0, 0, 0]],\n",
      "\n",
      "         [[0, 0, 0, 0, 0],\n",
      "          [0, 0, 0, 0, 0],\n",
      "          [0, 0, 0, 0, 0],\n",
      "          [0, 0, 0, 0, 0],\n",
      "          [0, 0, 0, 0, 0],\n",
      "          [0, 0, 0, 0, 0]]]])\n"
     ]
    }
   ],
   "source": [
    "print(t4d.size())\n",
    "p2d = (2, 1, 1, 1, 1, 1) # pad last dim by (1, 1) and 2nd to last by (2, 2)\n",
    "out = F.pad(t4d, p2d, \"constant\", 0)\n",
    "print(out.size())\n",
    "print(out)"
   ]
  },
  {
   "cell_type": "code",
   "execution_count": 35,
   "metadata": {},
   "outputs": [
    {
     "name": "stdout",
     "output_type": "stream",
     "text": [
      "torch.Size([10, 11, 12, 13])\n",
      "13\n",
      "torch.Size([10, 11, 19, 16])\n",
      "torch.Size([10, 11, 12, 13])\n",
      "torch.Size([10, 13, 14, 16])\n"
     ]
    }
   ],
   "source": [
    "source = torch.randint(2,6, (10,11,12,13))\n",
    "pad1 = (1, 2,3,4) # pad last dim by 1 on each side\n",
    "print(source.size())\n",
    "print(source.size(-1))\n",
    "output = F.pad(source, pad1, \"constant\", 0)  # effectively zero padding\n",
    "print(output.size())\n",
    "# print(output)\n",
    "print(source.size())\n",
    "pad2 = (2, 1, 1, 1, 1, 1) # pad last dim by (1, 1) and 2nd to last by (2, 2)\n",
    "output = F.pad(source, pad2, \"constant\", 0)\n",
    "print(output.size())\n",
    "# print(output)"
   ]
  },
  {
   "cell_type": "code",
   "execution_count": 38,
   "metadata": {},
   "outputs": [
    {
     "name": "stdout",
     "output_type": "stream",
     "text": [
      "12\n"
     ]
    }
   ],
   "source": [
    "print(source.size(-2))"
   ]
  },
  {
   "cell_type": "code",
   "execution_count": null,
   "metadata": {},
   "outputs": [],
   "source": []
  }
 ],
 "metadata": {
  "kernelspec": {
   "display_name": "Python 3",
   "language": "python",
   "name": "python3"
  },
  "language_info": {
   "codemirror_mode": {
    "name": "ipython",
    "version": 3
   },
   "file_extension": ".py",
   "mimetype": "text/x-python",
   "name": "python",
   "nbconvert_exporter": "python",
   "pygments_lexer": "ipython3",
   "version": "3.7.0"
  },
  "orig_nbformat": 4,
  "vscode": {
   "interpreter": {
    "hash": "767d51c1340bd893661ea55ea3124f6de3c7a262a8b4abca0554b478b1e2ff90"
   }
  }
 },
 "nbformat": 4,
 "nbformat_minor": 2
}
